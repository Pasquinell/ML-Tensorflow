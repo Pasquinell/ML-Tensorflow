{
 "cells": [
  {
   "cell_type": "markdown",
   "metadata": {},
   "source": [
    "# Logistic regression with one hot encoder\n",
    "\n",
    "The aim of this code is to show how to apply the logistic regression with one hot enconder implementation using tensorflow and other common python libraries. The first cell is about data pre processing an you can find it in detail in other notebooks. \n"
   ]
  },
  {
   "cell_type": "code",
   "execution_count": 25,
   "metadata": {},
   "outputs": [
    {
     "name": "stdout",
     "output_type": "stream",
     "text": [
      "INFO ABOUT OUR DATA FRAME \n",
      "\n",
      "<class 'pandas.core.frame.DataFrame'>\n",
      "RangeIndex: 891 entries, 0 to 890\n",
      "Data columns (total 12 columns):\n",
      "PassengerId    891 non-null int64\n",
      "Survived       891 non-null int64\n",
      "Pclass         891 non-null int64\n",
      "Name           891 non-null object\n",
      "Sex            891 non-null object\n",
      "Age            714 non-null float64\n",
      "SibSp          891 non-null int64\n",
      "Parch          891 non-null int64\n",
      "Ticket         891 non-null object\n",
      "Fare           891 non-null float64\n",
      "Cabin          204 non-null object\n",
      "Embarked       889 non-null object\n",
      "dtypes: float64(2), int64(5), object(5)\n",
      "memory usage: 83.6+ KB\n",
      "None\n",
      "\n",
      "\n",
      "VISUALIZE HEAD OF THE DATA FRAME WITH THE NEW DUMMY VARIABLES \n",
      "\n",
      "   Survived  Pclass     Sex   Age  SibSp  Parch     Fare Embarked\n",
      "0         0       3    male  22.0      1      0   7.2500        S\n",
      "1         1       1  female  38.0      1      0  71.2833        C\n",
      "2         1       3  female  26.0      0      0   7.9250        S\n",
      "3         1       1  female  35.0      1      0  53.1000        S\n",
      "4         0       3    male  35.0      0      0   8.0500        S\n",
      "\n",
      "\n",
      "VISUALIZE HEAD OF THE DATA FRAME WITH THE NEW DUMMY VARIABLES \n",
      "\n",
      "   Survived  Pclass  Sex   Age  SibSp  Parch     Fare  Embarked_C  Embarked_Q\n",
      "0         0       3    0  22.0      1      0   7.2500           0           0\n",
      "1         1       1    1  38.0      1      0  71.2833           1           0\n",
      "2         1       3    1  26.0      0      0   7.9250           0           0\n",
      "3         1       1    1  35.0      1      0  53.1000           0           0\n",
      "4         0       3    0  35.0      0      0   8.0500           0           0\n",
      "\n",
      " \n",
      "\n",
      "THE SHAPE OF THE FEATURES (X) TRAIN SET IS\n",
      "(712, 8)\n",
      "\n",
      "\n",
      "THE SHAPE OF THE TARGET (y) TRAIN SET IS\n",
      "(712,)\n",
      "\n",
      "\n"
     ]
    }
   ],
   "source": [
    "# First import libraries. We arge going to import pandas for data pre procesing, numpy for managing arrays, \n",
    "# matplotlib for ploting and tensorflow for our machine learning models.\n",
    "import pandas as pd\n",
    "import numpy as np\n",
    "import matplotlib.pyplot as plt\n",
    "import tensorflow as tf\n",
    "\n",
    "\n",
    "df = pd.read_csv(\"data/train.csv\")\n",
    "\n",
    "print(\"INFO ABOUT OUR DATA FRAME \\n\")\n",
    "\n",
    "print(df.info())\n",
    "print(\"\\n\")\n",
    "\n",
    "# Drop the columns \"Name\", \"Ticket\" and \"Cabin\"\n",
    "df2 = df.drop(\"Name\",axis = 1).drop(\"Ticket\",axis = 1).drop(\"Cabin\",axis = 1).drop(\"PassengerId\",axis = 1)\n",
    "\n",
    "print(\"VISUALIZE HEAD OF THE DATA FRAME WITH THE NEW DUMMY VARIABLES \\n\")\n",
    "print(df2.head())\n",
    "print(\"\\n\")\n",
    "\n",
    "# Imput Integer number \"male\":0 and \"female\":1\n",
    "df2[\"Sex\"] = df2[\"Sex\"].replace([\"male\"], 0)\n",
    "df2[\"Sex\"] = df2[\"Sex\"].replace([\"female\"], 1)\n",
    "\n",
    "# Trtansform Embarked in three dummy variables: Embarked_C  Embarked_Q  Embarked_S \n",
    "df3 = pd.get_dummies(df2)\n",
    "# Only 2 of the 3 dummy variables are needed, so we will remove one of them\n",
    "df3 = df3.drop(\"Embarked_S\",axis = 1)\n",
    "\n",
    "\n",
    "print(\"VISUALIZE HEAD OF THE DATA FRAME WITH THE NEW DUMMY VARIABLES \\n\")\n",
    "print(df3.head())\n",
    "print(\"\\n \\n\")\n",
    "\n",
    "from sklearn.preprocessing import Imputer\n",
    "\n",
    "X = df3.drop(\"Survived\",axis = 1).values\n",
    "y = df3[\"Survived\"].values\n",
    "\n",
    "# Replace missing values with the mean of each column\n",
    "imp = Imputer(missing_values = \"NaN\", \n",
    "             strategy = \"mean\",\n",
    "             axis = 0) # axis = 0 correspond to the comlumns\n",
    "imp.fit(X)\n",
    "X = imp.transform(X)\n",
    "\n",
    "\n",
    "# Use the scale sklearn.preprocessing function to set all columns at the same scale. \n",
    "# This is specially important for the gradient descend\n",
    "from sklearn.preprocessing import scale\n",
    "X = scale(X)\n",
    "\n",
    "# Use train_test_split from sklearn.model_selection to split the features and the target in tain and test set\n",
    "from sklearn.model_selection import train_test_split\n",
    "X_train, X_test, y_train, y_test = train_test_split(X, y, test_size = 0.2, random_state=42, stratify=y)\n",
    "\n",
    "print(\"THE SHAPE OF THE FEATURES (X) TRAIN SET IS\")\n",
    "print(X_train.shape)\n",
    "print(\"\\n\")\n",
    "print(\"THE SHAPE OF THE TARGET (y) TRAIN SET IS\")\n",
    "print(y_train.shape)\n",
    "print(\"\\n\")\n"
   ]
  },
  {
   "cell_type": "markdown",
   "metadata": {},
   "source": [
    "## Model"
   ]
  },
  {
   "cell_type": "code",
   "execution_count": 30,
   "metadata": {},
   "outputs": [
    {
     "name": "stdout",
     "output_type": "stream",
     "text": [
      "('one_hot', <tf.Tensor 'one_hot_1:0' shape=(?, 1, 2) dtype=float32>)\n",
      "('reshape', <tf.Tensor 'Reshape_4:0' shape=(?, 2) dtype=float32>)\n"
     ]
    }
   ],
   "source": [
    "# Define Graph\n",
    "\n",
    "nb_classes = 2  # 0 ~ 1\n",
    "\n",
    "# Create the feature \n",
    "x_tf_train = tf.placeholder(shape=[None, 8], dtype=tf.float32)\n",
    "y_tf_train = tf.placeholder(shape=[None, 1], dtype=tf.int32)\n",
    "\n",
    "Y_one_hot = tf.one_hot(y_tf_train, nb_classes)  # one hot\n",
    "print(\"one_hot\", Y_one_hot)\n",
    "Y_one_hot = tf.reshape(Y_one_hot, [-1, nb_classes])\n",
    "print(\"reshape\", Y_one_hot)\n",
    "\n",
    "\n",
    "# Create a Weight tensor W and the bias tensor b\n",
    "W = tf.Variable(tf.random_normal([8, nb_classes]), name='weight')\n",
    "b = tf.Variable(tf.random_normal([nb_classes]), name='bias')"
   ]
  },
  {
   "cell_type": "code",
   "execution_count": 31,
   "metadata": {},
   "outputs": [],
   "source": [
    "# tf.nn.softmax computes softmax activations\n",
    "# softmax = exp(logits) / reduce_sum(exp(logits), dim)\n",
    "logits = tf.matmul(x_tf_train, W) + b\n",
    "hypothesis = tf.nn.softmax(logits)\n",
    "\n",
    "cost_i = tf.nn.softmax_cross_entropy_with_logits(logits=logits,\n",
    "                                                 labels=Y_one_hot)\n",
    "\n",
    "loss = tf.reduce_mean(cost_i)\n",
    "optimizer = tf.train.GradientDescentOptimizer(learning_rate=0.01).minimize(loss)\n",
    "\n",
    "prediction = tf.argmax(hypothesis, 1)\n",
    "correct_prediction = tf.equal(prediction, tf.argmax(Y_one_hot, 1))\n",
    "accuracy = tf.reduce_mean(tf.cast(correct_prediction, tf.float32))\n"
   ]
  },
  {
   "cell_type": "code",
   "execution_count": 35,
   "metadata": {},
   "outputs": [
    {
     "name": "stdout",
     "output_type": "stream",
     "text": [
      "Step:     0\tLoss: 1.728\tAcc: 30.20%\n",
      "Step:   400\tLoss: 0.486\tAcc: 78.23%\n",
      "Step:   800\tLoss: 0.444\tAcc: 79.63%\n",
      "Step:  1200\tLoss: 0.438\tAcc: 80.06%\n",
      "Step:  1600\tLoss: 0.436\tAcc: 80.06%\n",
      "Step:  2000\tLoss: 0.436\tAcc: 80.20%\n",
      "Step:  2400\tLoss: 0.436\tAcc: 80.20%\n",
      "Step:  2800\tLoss: 0.436\tAcc: 80.62%\n"
     ]
    }
   ],
   "source": [
    "#Train Model\n",
    "loss_vec = []\n",
    "acc_vec_train = []\n",
    "acc_vec_test = []\n",
    "with tf.Session() as sess:\n",
    "    # Initialize variables\n",
    "    init = tf.global_variables_initializer()\n",
    "    sess.run(init)\n",
    "    losses = []\n",
    "    for i in range(3000):\n",
    "        # Fix the dimension of y_train\n",
    "        y_train_t = np.transpose([y_train])\n",
    "        # Run the session, this is actually what fits the model\n",
    "        sess.run(optimizer, feed_dict={x_tf_train: X_train, y_tf_train: y_train_t})\n",
    "        \n",
    "        temp_loss, acc_train = sess.run([loss, accuracy], feed_dict={\n",
    "                                 x_tf_train: X_train, y_tf_train: y_train_t})\n",
    "        acc_test = sess.run(accuracy, feed_dict={\n",
    "                                 x_tf_train: X_test, y_tf_train: np.transpose([y_test])})\n",
    "        loss_vec.append(temp_loss)\n",
    "        \n",
    "        acc_vec_train.append(acc_train)\n",
    "        acc_vec_test.append(acc_test)\n",
    "        if i % 400 == 0:\n",
    "            print(\"Step: {:5}\\tLoss: {:.3f}\\tAcc: {:.2%}\".format(\n",
    "                i, temp_loss, acc_train))\n",
    " "
   ]
  },
  {
   "cell_type": "code",
   "execution_count": 36,
   "metadata": {},
   "outputs": [
    {
     "data": {
      "image/png": "[encoded data removed]",
      "text/plain": [
       "<matplotlib.figure.Figure at 0x7fa449124b10>"
      ]
     },
     "metadata": {},
     "output_type": "display_data"
    },
    {
     "data": {
      "image/png": "[encoded data removed]",
      "text/plain": [
       "<matplotlib.figure.Figure at 0x7fa44971b290>"
      ]
     },
     "metadata": {},
     "output_type": "display_data"
    }
   ],
   "source": [
    "# Plot loss over time\n",
    "plt.plot(loss_vec, 'k-')\n",
    "plt.title('Cross Entropy Loss per Generation')\n",
    "plt.xlabel('Generation')\n",
    "plt.ylabel('Cross Entropy Loss')\n",
    "plt.show()\n",
    "\n",
    "# Plot train and test accuracy\n",
    "plt.plot(acc_vec_train, 'k-', label='Train Set Accuracy')\n",
    "plt.plot(acc_vec_test, 'g--', label='Test Set Accuracy')\n",
    "#plt.plot(acc_vec, 'k-')\n",
    "plt.title('Train  Accuracy')\n",
    "plt.xlabel('Generation')\n",
    "plt.ylabel('Accuracy')\n",
    "plt.legend(loc='lower right')\n",
    "plt.show()\n"
   ]
  },
  {
   "cell_type": "code",
   "execution_count": null,
   "metadata": {
    "collapsed": true
   },
   "outputs": [],
   "source": []
  }
 ],
 "metadata": {
  "kernelspec": {
   "display_name": "Python 2",
   "language": "python",
   "name": "python2"
  },
  "language_info": {
   "codemirror_mode": {
    "name": "ipython",
    "version": 2
   },
   "file_extension": ".py",
   "mimetype": "text/x-python",
   "name": "python",
   "nbconvert_exporter": "python",
   "pygments_lexer": "ipython2",
   "version": "2.7.12"
  }
 },
 "nbformat": 4,
 "nbformat_minor": 2
}
